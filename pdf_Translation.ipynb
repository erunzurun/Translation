{
 "cells": [
  {
   "cell_type": "code",
   "execution_count": 107,
   "metadata": {},
   "outputs": [],
   "source": [
    "#필요한 라이브러리\n",
    "import PyPDF2\n",
    "import numpy as np"
   ]
  },
  {
   "cell_type": "code",
   "execution_count": 13,
   "metadata": {},
   "outputs": [
    {
     "name": "stdout",
     "output_type": "stream",
     "text": [
      "9\n"
     ]
    }
   ],
   "source": [
    "#파일 불러오기\n",
    "pdf = PyPDF2.PdfFileReader(\"\")\n",
    "NumberPages = pdf.getNumPages()\n",
    "print(NumberPages)"
   ]
  },
  {
   "cell_type": "code",
   "execution_count": null,
   "metadata": {},
   "outputs": [],
   "source": [
    "#pdf에서 text만 뽑기\n",
    "text_pdf = \"\"\n",
    "\n",
    "for i in range(NumberPages):\n",
    "    text = pdf.pages[i].extractText()\n",
    "    text = text.replace(\"\\n\", \"\")\n",
    "    text = text.replace(\"\\t\", \"\")\n",
    "    text_pdf += text"
   ]
  },
  {
   "cell_type": "code",
   "execution_count": 94,
   "metadata": {},
   "outputs": [],
   "source": [
    "#논문 목차\n",
    "# 텍스트 갯수가 14522를 넘어가면 번역기가 번역을 못홤\n",
    "\n",
    "#user parameter\n",
    "#챕터 별로 복사, 붙여넣기\n",
    "\n",
    "Paragraph = [\"Abstract\", \"Introduction\", \"\", \"\", \"\", \"\"]"
   ]
  },
  {
   "cell_type": "code",
   "execution_count": 95,
   "metadata": {},
   "outputs": [
    {
     "name": "stdout",
     "output_type": "stream",
     "text": [
      "Abstract: 157\n",
      "soft.com\n",
      "Introduction: 1449\n",
      "entation.1. \n",
      "Deep Residual Learning: 0\n",
      "\n",
      "Deep Residual Learning: 9627\n",
      ", over 100 layers).3. \n",
      "Experiments: 18355\n",
      "0,640}).4. \n",
      ". CIFAR-10 and Analysis: 28924\n",
      "lace in ILSVRC 2015.4.2\n",
      "References: 36826\n",
      "endix.8777\n",
      "[157, 1449, 0, 9627, 18355, 28924, 36826]\n"
     ]
    }
   ],
   "source": [
    "#논문 목차 index, 중복 확인\n",
    "s = text_pdf\n",
    "par_list = []\n",
    "\n",
    "for c in Paragraph:\n",
    "    for m in re.finditer(c, s):\n",
    "        asd = \"{0}: {1}\".format(c, m.start())\n",
    "        print(asd)\n",
    "        start = m.start()\n",
    "        print(text_pdf[start-len(c):start])\n",
    "        par_list.append(start)\n",
    "\n",
    "print(par_list)\n",
    "# for i in range(len(Paragraph)):\n",
    "#     if par_list.count(Paragraph[i]) >= 2:\n",
    "#         print(qwe)\n",
    "#         print(Paragraph[i])\n"
   ]
  },
  {
   "cell_type": "code",
   "execution_count": 36,
   "metadata": {},
   "outputs": [],
   "source": [
    "pop_list = []\n",
    "\n",
    "for i in range(len(par_list)-1):\n",
    "    if not par_list[i+1] >= par_list[i]:\n",
    "        pop_list.append(par_list[i+1])\n",
    "\n",
    "par_list_final = [i for i in par_list if i not in pop_list]"
   ]
  },
  {
   "cell_type": "code",
   "execution_count": 21,
   "metadata": {},
   "outputs": [
    {
     "data": {
      "text/plain": [
       "6"
      ]
     },
     "execution_count": 21,
     "metadata": {},
     "output_type": "execute_result"
    }
   ],
   "source": [
    "len(par_list)"
   ]
  },
  {
   "cell_type": "code",
   "execution_count": 13,
   "metadata": {
    "scrolled": true
   },
   "outputs": [],
   "source": [
    "#번역기 기본 구조\n",
    "# translator = Translator()\n",
    "\n",
    "# outstr = translator.translate(text_pdf[0:14922], dest = \"ko\")\n",
    "# print(outstr.text)"
   ]
  },
  {
   "cell_type": "code",
   "execution_count": 101,
   "metadata": {},
   "outputs": [],
   "source": [
    "#번역기\n",
    "translator = Translator()\n",
    "\n",
    "trans_final = []\n",
    "\n",
    "for i,letter in enumerate(par_list_final):\n",
    "    start = par_list_final[i]\n",
    "    if(letter == par_list_final[-1]):\n",
    "        end = -1\n",
    "        outstr = translator.translate(text_pdf[start:end], dest = \"ko\")\n",
    "        trans_final.append(outstr.text)\n",
    "    else:\n",
    "        end = par_list_final[i+1] - 1\n",
    "        outstr = translator.translate(text_pdf[start:end], dest = \"ko\")\n",
    "        trans_final.append(outstr.text)\n",
    "        \n"
   ]
  },
  {
   "cell_type": "code",
   "execution_count": 111,
   "metadata": {},
   "outputs": [],
   "source": [
    "#번역 확인\n",
    "# print(trans_final)"
   ]
  },
  {
   "cell_type": "code",
   "execution_count": 108,
   "metadata": {},
   "outputs": [
    {
     "data": {
      "text/plain": [
       "(6,)"
      ]
     },
     "execution_count": 108,
     "metadata": {},
     "output_type": "execute_result"
    }
   ],
   "source": [
    "# 갯수 확인\n",
    "# np.shape(trans_final)"
   ]
  },
  {
   "cell_type": "code",
   "execution_count": 110,
   "metadata": {},
   "outputs": [],
   "source": [
    "#내보내기\n",
    "f = open(\"\", 'w', encoding = 'utf-8')\n",
    "\n",
    "\n",
    "for i in range(len(trans_final)):\n",
    "    f.write(trans_final[i])\n",
    "    f.write(\"\\n\\n\")"
   ]
  }
 ],
 "metadata": {
  "kernelspec": {
   "display_name": "Python 3 (ipykernel)",
   "language": "python",
   "name": "python3"
  },
  "language_info": {
   "codemirror_mode": {
    "name": "ipython",
    "version": 3
   },
   "file_extension": ".py",
   "mimetype": "text/x-python",
   "name": "python",
   "nbconvert_exporter": "python",
   "pygments_lexer": "ipython3",
   "version": "3.11.4"
  }
 },
 "nbformat": 4,
 "nbformat_minor": 4
}
